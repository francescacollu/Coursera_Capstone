{
 "cells": [
  {
   "cell_type": "markdown",
   "metadata": {},
   "source": [
    "<h1>Applied DS Capstone - Final Project"
   ]
  },
  {
   "cell_type": "markdown",
   "metadata": {},
   "source": [
    "<h1>The Battle of Neighborhood: Night at the Museum (in Paris)"
   ]
  },
  {
   "cell_type": "markdown",
   "metadata": {},
   "source": [
    "<h2>Introduction"
   ]
  },
  {
   "cell_type": "markdown",
   "metadata": {},
   "source": [
    "If you only had a couple of days of holidays and you were really into art, which Parisian arrondissement should you head on in order to optimize your time of vacation in the museums capital in the world? \n",
    "\n",
    "In the present report, we will search an answer to this question."
   ]
  },
  {
   "cell_type": "markdown",
   "metadata": {},
   "source": [
    "<h2>Overview of the Problem"
   ]
  },
  {
   "cell_type": "markdown",
   "metadata": {},
   "source": [
    "Paris, the capital of France and one of the most visited city in Europe, has been crowned the museum capital of the world as well, accounting for 297 museums. The variety of art expression in Paris is clear in the several shapes of it: not only museums, but also cinemas, theaters, monuments, music venues, outdoor sculptures and so on.\n",
    "\n",
    "The aim of this report is to analyze the distribution of all the Paris art venues, such as art galleries, libraries, movie theaters, historic sites, theaters, science museums. The target audience of this problem is the art enthusiasts who find themselves in Paris, wondering in which neighborhood they should be staying in for the vacation in order to spend as much time as they can visiting a specific kind of art venue. For the same purpose, another target audience of this problem is also a travel agency, that is planning an itinerary for a journey in Paris for some clients."
   ]
  },
  {
   "cell_type": "code",
   "execution_count": null,
   "metadata": {},
   "outputs": [],
   "source": []
  }
 ],
 "metadata": {
  "kernelspec": {
   "display_name": "Python 3",
   "language": "python",
   "name": "python3"
  },
  "language_info": {
   "codemirror_mode": {
    "name": "ipython",
    "version": 3
   },
   "file_extension": ".py",
   "mimetype": "text/x-python",
   "name": "python",
   "nbconvert_exporter": "python",
   "pygments_lexer": "ipython3",
   "version": "3.8.3"
  }
 },
 "nbformat": 4,
 "nbformat_minor": 4
}
